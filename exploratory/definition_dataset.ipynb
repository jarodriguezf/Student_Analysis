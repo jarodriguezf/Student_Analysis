{
 "cells": [
  {
   "cell_type": "markdown",
   "metadata": {},
   "source": [
    "## Análisis del Conjunto de Datos"
   ]
  },
  {
   "cell_type": "markdown",
   "metadata": {},
   "source": [
    " *Los datos han sido recopilados a nivel global, con un enfoque particular en los países de la Unión Europea (UE). Es importante tener en cuenta que cada característica o categoría no necesariamente representa de manera exclusiva a un país en particular, debido a la naturaleza diversa y heterogénea de los datos extraídos en el contexto del Espacio Europeo de Educación Superior (EEES), implementado a través del Proceso de Bolonia. Por lo tanto, las tendencias y patrones observados pueden reflejar una amplia gama de situaciones dentro de los países participantes en este proceso de integración educativa.*"
   ]
  },
  {
   "cell_type": "markdown",
   "metadata": {},
   "source": [
    "## Índice de atributos\n",
    "- [Marital Status](#MaritalStatus)\n",
    "- [Application mode](#ApplicationMode)\n",
    "- [Course](#Course)\n",
    "- [Daytime/Evening Attendance](#DaytimeEveningAttendance)\n",
    "- [Previous Qualification](#PreviousQualification)\n",
    "- [Nacionality](#Nacionality)\n",
    "- [Parents Qualification](#ParentsQualification)\n",
    "- [Parents Occupation](#ParentsOccupation)\n",
    "- [Educational Special Needs](#EducationalSpecial)\n",
    "- [Displaced](#Displaced)\n",
    "- [Debtor](#Debtor)\n",
    "- [Tuition fees up to date](#TuitionFees)\n",
    "- [Genre](#Genre)\n",
    "- [Scholarship](#Scholarship)\n",
    "- [International](#International)"
   ]
  },
  {
   "cell_type": "markdown",
   "metadata": {},
   "source": [
    "## Variables Categóricas"
   ]
  },
  {
   "cell_type": "markdown",
   "metadata": {},
   "source": [
    "*Las variables categóricas se presentan en formato (número/valor), donde cada número representa un valor específico.*"
   ]
  },
  {
   "cell_type": "markdown",
   "metadata": {},
   "source": [
    "<a id=\"MaritalStatus\"></a>\n",
    "### Estado Civil (Marital Status)"
   ]
  },
  {
   "cell_type": "markdown",
   "metadata": {},
   "source": [
    "Indica el estado marital de los estudiantes, representado por las siguientes categorias:\n",
    "- 1 -> Soltero.\n",
    "- 2 -> Casado.\n",
    "- 3 -> Viudo.\n",
    "- 4 -> Divorciado.\n",
    "- 5 -> Unión de hecho.\n",
    "- 6 -> Legalmente separados."
   ]
  },
  {
   "cell_type": "markdown",
   "metadata": {},
   "source": [
    "<a id=\"ApplicationMode\"></a>\n",
    "### Modo de aplicar el ingreso (Application mode)"
   ]
  },
  {
   "cell_type": "markdown",
   "metadata": {},
   "source": [
    "Modo de aplicacion utilizado por el estudiante al solicitar su ingreso a un curso o programa educativo:\n",
    "- 1 -> 1ª fase - contingente general.\n",
    "- 2 -> Ordenanza No. 612/93.\n",
    "- 3 -> 1ª fase - contingente especial (Isla de Azores).\n",
    "- 4 -> Titulaciones de otros cursos superiores.\n",
    "- 5 -> Ordenanza No. 854-B/99.\n",
    "- 6 -> Estudiante internacional (licenciatura).\n",
    "- 7 -> 1ª fase - contingente especial (Isla de Madeira).\n",
    "- 8 -> 2ª fase - contingente general.\n",
    "- 9 -> 3ª fase - contingente general.\n",
    "- 10 -> Ordenanza No. 533-A/99, item b2 (Plan Diferente).\n",
    "- 11 -> Ordenanza No. 533-A/99, item b3 (Otra Institución).\n",
    "- 12 -> Más de 23 años.\n",
    "- 13 -> Transferencia.\n",
    "- 14 -> Cambio de curso.\n",
    "- 15 -> Titulares de diplomas de especialización tecnológica.\n",
    "- 16 -> Cambio de institución/curso.\n",
    "- 17 -> Titulares de diplomas de ciclo corto.\n",
    "- 18 -> Cambio de institución/curso (Internacional)."
   ]
  },
  {
   "cell_type": "markdown",
   "metadata": {},
   "source": [
    "<a id=\"Course\"></a>\n",
    "### Curso Incrito por el estudiante (Course)"
   ]
  },
  {
   "cell_type": "markdown",
   "metadata": {},
   "source": [
    "Este atributo se refiere al curso o programa académico en el que el estudiante está inscrito o al que ha solicitado ingresar:\n",
    "\n",
    "- 1 -> Tecnologías de Producción de Biocombustibles.\n",
    "- 2 -> Animación y Diseño Multimedia.\n",
    "- 3 -> Servicio Social (turno nocturno).\n",
    "- 4 -> Agronomía.\n",
    "- 5 -> Diseño de Comunicación.\n",
    "- 6 -> Enfermería Veterinaria.\n",
    "- 7 -> Ingeniería Informática.\n",
    "- 8 -> Equinicultura.\n",
    "- 9 -> Gestión.\n",
    "- 10 -> Servicio Social.\n",
    "- 11 -> Turismo.\n",
    "- 12 -> Enfermería.\n",
    "- 13 -> Higiene Oral.\n",
    "- 14 -> Gestión de Publicidad y Marketing.\n",
    "- 15 -> Periodismo y Comunicación.\n",
    "- 16 -> Educación Básica.\n",
    "- 17 -> Gestión (turno nocturno)."
   ]
  },
  {
   "cell_type": "markdown",
   "metadata": {},
   "source": [
    "<a id=\"DaytimeEveningAttendance\"></a>\n",
    "### Asistencia a clases diurna o nocturna (Daytime/evening attendance)"
   ]
  },
  {
   "cell_type": "markdown",
   "metadata": {},
   "source": [
    "Indica si el estudiante asiste a clases durante el día o la tarde/noche:\n",
    "\n",
    "- 1 -> Asiste durante el día.\n",
    "- 2 -> Asiste durante la tarde/noche."
   ]
  },
  {
   "cell_type": "markdown",
   "metadata": {},
   "source": [
    "<a id=\"PreviousQualification\"></a>\n",
    "### Cualificación obtenida antes de inscribirse en la educacion superior/curso (Previous qualification)"
   ]
  },
  {
   "cell_type": "markdown",
   "metadata": {},
   "source": [
    "Indica el tipo de estudios/cualificación que el estudiante tiene antes de inscribirse en el curso o formación deseada:\n",
    "\n",
    "- 1 -> Educación secundaria.\n",
    "- 2 -> Educación superior: licenciatura.\n",
    "- 3 -> Educación superior: grado.\n",
    "- 4 -> Educación superior: máster.\n",
    "- 5 -> Educación superior: doctorado.\n",
    "- 6 -> Frecuencia de educación superior.\n",
    "- 7 -> 12º año de escolaridad: no completado.\n",
    "- 8 -> 11º año de escolaridad: no completado.\n",
    "- 9 -> Otro: 11º año de escolaridad.\n",
    "- 10 -> 10º año de escolaridad.\n",
    "- 11 -> 10º año de escolaridad: no completado.\n",
    "- 12 -> Ciclo básico de educación (9º/10º/11º año) o equivalente.\n",
    "- 13 -> Ciclo secundario de educación (6º/7º/8º año) o equivalente.\n",
    "- 14 -> Curso de especialización tecnológica.\n",
    "- 15 -> Educación superior: grado (1er ciclo).\n",
    "- 16 -> Curso técnico profesional superior.\n",
    "- 17 -> Educación superior: máster (2º ciclo)."
   ]
  },
  {
   "cell_type": "markdown",
   "metadata": {},
   "source": [
    "<a id=\"Nacionality\"></a>\n",
    "### Nacionalidad del estudiante (Nacionality)"
   ]
  },
  {
   "cell_type": "markdown",
   "metadata": {},
   "source": [
    "Indica la nacionalidad del estudiante:\n",
    "- 1 -> Portuguesa.\n",
    "- 2 -> Alemana.\n",
    "- 3 -> Española.\n",
    "- 4 -> Italiana.\n",
    "- 5 -> Neerlandesa.\n",
    "- 6 -> Inglesa.\n",
    "- 7 -> Lituana.\n",
    "- 8 -> Angoleña.\n",
    "- 9 -> Caboverdiana.\n",
    "- 10 -> Guineana.\n",
    "- 11 -> Mozambiqueña.\n",
    "- 12 -> Santotomense.\n",
    "- 13 -> Turca.\n",
    "- 14 -> Brasileña.\n",
    "- 15 -> Rumana.\n",
    "- 16 -> Moldava.\n",
    "- 17 -> Mexicana.\n",
    "- 18 -> Ucraniana.\n",
    "- 19 -> Rusa.\n",
    "- 20 -> Cubana.\n",
    "- 21 -> Colombiana."
   ]
  },
  {
   "cell_type": "markdown",
   "metadata": {},
   "source": [
    "<a id=\"ParentsQualification\"></a>\n",
    "### Cualificación de los padres del estudiante (Mother’s qualification/Father’s qualification)"
   ]
  },
  {
   "cell_type": "markdown",
   "metadata": {},
   "source": [
    "Este atributo se refiere a la cualificación que los padres del estudiante ostentan:\n",
    "- 1 -> Educación Secundaria - 12º año de escolaridad o equivalente.\n",
    "- 2 -> Educación Superior - licenciatura.\n",
    "- 3 -> Educación Superior - grado.\n",
    "- 4 -> Educación Superior - máster.\n",
    "- 5 -> Educación Superior - doctorado.\n",
    "- 6 -> Frecuencia de Educación Superior.\n",
    "- 7 -> 12º año de escolaridad: no completado.\n",
    "- 8 -> 11º año de escolaridad: no completado.\n",
    "- 9 -> 7º año (Antiguo).\n",
    "- 10 -> Otro - 11º año de escolaridad.\n",
    "- 11 -> 2º año del curso complementario de educación secundaria.\n",
    "- 12 -> 10º año de escolaridad.\n",
    "- 13 -> Curso de comercio general.\n",
    "- 14 -> Ciclo básico de educación 3º (9º/10º/11º año) o equivalente.\n",
    "- 15 -> Curso complementario de educación secundaria.\n",
    "- 16 -> Curso técnico-profesional.\n",
    "- 17 -> Curso complementario de educación secundaria - no concluido.\n",
    "- 18 -> 7º año de escolaridad.\n",
    "- 19 -> 2º ciclo del curso general de educación secundaria.\n",
    "- 20 -> 9º año de escolaridad: no completado.\n",
    "- 21 -> 8º año de escolaridad.\n",
    "- 22 -> Curso general de Administración y Comercio.\n",
    "- 23 -> Contabilidad y Administración Suplementarias.\n",
    "- 24 -> Desconocido.\n",
    "- 25 -> No puede leer ni escribir.\n",
    "- 26 -> Puede leer sin tener un 4º año de escolaridad.\n",
    "- 27 -> Educación básica 1º ciclo (4º/5º año) o equivalente.\n",
    "- 28 -> Educación básica 2º ciclo (6º/7º/8º año) o equivalente.\n",
    "- 29 -> Curso de especialización tecnológica.\n",
    "- 30 -> Educación superior - grado (1er ciclo).\n",
    "- 31 -> Curso de estudios superiores especializados.\n",
    "- 32 -> Curso técnico profesional superior.\n",
    "- 33 -> Educación Superior - máster (2º ciclo).\n",
    "- 34 -> Educación Superior - doctorado (3er ciclo)."
   ]
  },
  {
   "cell_type": "markdown",
   "metadata": {},
   "source": [
    "<a id=\"ParentsOccupation\"></a>\n",
    "### Ocupacion de los padres del estudiante (Mother’s occupation/Father’s occupation)"
   ]
  },
  {
   "cell_type": "markdown",
   "metadata": {},
   "source": [
    "Atributo que indica a que se dedican los padres de cada estudiante:\n",
    "- 1 -> Estudiante\n",
    "- 2 -> Representantes del Poder Legislativo y Organismos Ejecutivos, Directores, Directores y Gerentes Ejecutivos\n",
    "- 3 -> Especialistas en Actividades Intelectuales y Científicas\n",
    "- 4 -> Técnicos de Nivel Intermedio y Profesiones\n",
    "- 5 -> Personal Administrativo\n",
    "- 6 -> Servicios Personales, Trabajadores de Seguridad y Protección, y Vendedores\n",
    "- 7 -> Agricultores y Trabajadores Calificados en Agricultura, Pesca y Silvicultura\n",
    "- 8 -> Trabajadores Calificados en Industria, Construcción y Artesanos\n",
    "- 9 -> Operadores de Instalaciones y Máquinas y Trabajadores de Ensamblaje\n",
    "- 10 -> Trabajadores No Calificados\n",
    "- 11 -> Profesiones de las Fuerzas Armadas\n",
    "- 12 -> Otra Situación\n",
    "- 13 -> En Blanco\n",
    "- 14 -> Oficiales de las Fuerzas Armadas\n",
    "- 15 -> Sargentos de las Fuerzas Armadas\n",
    "- 16 -> Otro Personal de las Fuerzas Armadas\n",
    "- 17 -> Directores de servicios administrativos y comerciales\n",
    "- 18 -> Directores de hoteles, restaurantes, comercio y otros servicios\n",
    "- 19 -> Especialistas en ciencias físicas, matemáticas, ingeniería y técnicas relacionadas\n",
    "- 20 -> Profesionales de la salud\n",
    "- 21 -> Profesores\n",
    "- 22 -> Especialistas en finanzas, contabilidad, organización administrativa y relaciones públicas y comerciales\n",
    "- 23 -> Técnicos de nivel intermedio en ciencias e ingeniería\n",
    "- 24 -> Técnicos y profesionales de nivel intermedio de la salud\n",
    "- 25 -> Técnicos de nivel intermedio de servicios legales, sociales, deportivos, culturales y similares\n",
    "- 26 -> Técnicos en tecnologías de la información y la comunicación\n",
    "- 27 -> Trabajadores de oficina, secretarios en general y operadores de procesamiento de datos\n",
    "- 28 -> Operadores de datos, contables, estadísticos, de servicios financieros y de registro\n",
    "- 29 -> Otro personal de apoyo administrativo\n",
    "- 30 -> Trabajadores de servicios personales\n",
    "- 31 -> Vendedores\n",
    "- 32 -> Trabajadores de cuidado personal y similares\n",
    "- 33 -> Personal de servicios de protección y seguridad\n",
    "- 34 -> Agricultores orientados al mercado y trabajadores cualificados en agricultura y producción animal\n",
    "- 34 -> Agricultores, ganaderos, pescadores, cazadores y recolectores, y subsistencia\n",
    "- 35 -> Trabajadores de la construcción cualificados y similares, excepto electricistas\n",
    "- 36 -> Trabajadores cualificados en metalurgia, metalurgia y similares\n",
    "- 37 -> Trabajadores cualificados en electricidad y electrónica\n",
    "- 38 -> Trabajadores en procesamiento de alimentos, carpintería y otras industrias y oficios\n",
    "- 39 -> Operadores de planta fija y máquinas\n",
    "- 40 -> Trabajadores de montaje\n",
    "- 41 -> Conductores de vehículos y operadores de equipos móviles\n",
    "- 42 -> Trabajadores no calificados en agricultura, producción animal, pesca y silvicultura\n",
    "- 43 -> Trabajadores no calificados en la industria extractiva, construcción, manufactura y transporte\n",
    "- 44 -> Asistentes de preparación de comidas\n",
    "- 45 -> Vendedores ambulantes (excepto alimentos) y proveedores de servicios callejeros"
   ]
  },
  {
   "cell_type": "markdown",
   "metadata": {},
   "source": [
    "<a id=\"EducationalSpecial\"></a>\n",
    "### Necesidades especiales del estudiante (Educational special needs)"
   ]
  },
  {
   "cell_type": "markdown",
   "metadata": {},
   "source": [
    "Este atributo indica si el estudiante tiene necesidades educativas especiales.\n",
    "\n",
    "- 0 -> No tiene\n",
    "- 1 - Si tiene"
   ]
  },
  {
   "cell_type": "markdown",
   "metadata": {},
   "source": [
    "<a id=\"Displaced\"></a>\n",
    "### El estudiante se ha desplazado (Displaced)"
   ]
  },
  {
   "cell_type": "markdown",
   "metadata": {},
   "source": [
    "Este atributo indica si el estudiante es una persona desplazada.\n",
    "- 0 -> No es un apersona desplazada.\n",
    "- 1 -> Si es un apersona desplazada."
   ]
  },
  {
   "cell_type": "markdown",
   "metadata": {},
   "source": [
    "<a id=\"Debtor\"></a>\n",
    "### El estudiante es deudor (Debtor)"
   ]
  },
  {
   "cell_type": "markdown",
   "metadata": {},
   "source": [
    "Este atributo indica si el estudiante es un deudor. \n",
    "- 0 -> No\n",
    "- 1 -> Si"
   ]
  },
  {
   "cell_type": "markdown",
   "metadata": {},
   "source": [
    "<a id=\"TuitionFees\"></a>\n",
    "### El estudiante esta al dia en las tasas de la matricula (Tuition fees up to date)"
   ]
  },
  {
   "cell_type": "markdown",
   "metadata": {},
   "source": [
    "Este atributo indica si las tasas de matrícula del estudiante están al día.\n",
    "- 0 -> No\n",
    "- 1 -> Si"
   ]
  },
  {
   "cell_type": "markdown",
   "metadata": {},
   "source": [
    "<a id=\"Genre\"></a>\n",
    "### Genero del estudiante (Genre)"
   ]
  },
  {
   "cell_type": "markdown",
   "metadata": {},
   "source": [
    "Genero del estudiante.\n",
    "- 1 -> Masculino\n",
    "- 0 -> Femenino\n"
   ]
  },
  {
   "cell_type": "markdown",
   "metadata": {},
   "source": [
    "<a id=\"Scholarship\"></a>\n",
    "### El estudiante tiene una Beca (Scholarship holder)"
   ]
  },
  {
   "cell_type": "markdown",
   "metadata": {},
   "source": [
    "Este atributo indica si el estudiante es beneficiario de una beca.\n",
    "- 0 -> No\n",
    "- 1 -> Si"
   ]
  },
  {
   "cell_type": "markdown",
   "metadata": {},
   "source": [
    "<a id=\"International\"></a>\n",
    "### El estudiante es internacional (International)"
   ]
  },
  {
   "cell_type": "markdown",
   "metadata": {},
   "source": [
    "Este atributo indica si el estudiante es un estudiante internacional.\n",
    "- 0 -> No\n",
    "- 1 -> Si"
   ]
  }
 ],
 "metadata": {
  "kernelspec": {
   "display_name": "Python 3",
   "language": "python",
   "name": "python3"
  },
  "language_info": {
   "codemirror_mode": {
    "name": "ipython",
    "version": 3
   },
   "file_extension": ".py",
   "mimetype": "text/x-python",
   "name": "python",
   "nbconvert_exporter": "python",
   "pygments_lexer": "ipython3",
   "version": "3.11.7"
  }
 },
 "nbformat": 4,
 "nbformat_minor": 2
}
